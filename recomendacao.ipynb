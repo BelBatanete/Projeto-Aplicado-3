{
 "cells": [
  {
   "cell_type": "code",
   "execution_count": 21,
   "id": "c50a1bb3",
   "metadata": {},
   "outputs": [
    {
     "name": "stderr",
     "output_type": "stream",
     "text": [
      "C:\\Users\\renan\\AppData\\Roaming\\Python\\Python312\\site-packages\\IPython\\extensions\\storemagic.py:148: UserWarning: This is now an optional IPython functionality, using autorestore/credits requires you to install the `pickleshare` library.\n",
      "  obj = db[\"autorestore/\" + arg]\n",
      "C:\\Users\\renan\\AppData\\Roaming\\Python\\Python312\\site-packages\\IPython\\extensions\\storemagic.py:148: UserWarning: This is now an optional IPython functionality, using autorestore/movies requires you to install the `pickleshare` library.\n",
      "  obj = db[\"autorestore/\" + arg]\n"
     ]
    }
   ],
   "source": [
    "import pandas as pd \n",
    "import numpy as np \n",
    "from sklearn.metrics.pairwise import linear_kernel\n",
    "from sklearn.feature_extraction.text import TfidfVectorizer\n",
    "\n",
    "# Precisamos fazer isso para importar variávies de outro notebook.\n",
    "%store -r credits\n",
    "%store -r movies"
   ]
  },
  {
   "cell_type": "code",
   "execution_count": 22,
   "id": "22157b72",
   "metadata": {},
   "outputs": [],
   "source": [
    "df1=pd.read_csv(r\"tmdb_5000_credits.csv\",encoding='utf-8', sep=',')\n",
    "df2=pd.read_csv(r\"tmdb_5000_movies.csv\",encoding='utf-8', sep=',')\n",
    "\n",
    "df1.columns = ['id','tittle','cast','crew']\n",
    "dados = df2.merge(df1,on='id')"
   ]
  },
  {
   "cell_type": "markdown",
   "id": "93f9f8e5",
   "metadata": {},
   "source": [
    "# Content Based Filtering"
   ]
  },
  {
   "cell_type": "markdown",
   "id": "f2049501",
   "metadata": {},
   "source": [
    "Neste sistema de recomendação, o conteúdo do filme (sinopse, elenco, equipe, palavra-chave, slogan etc.) é usado para encontrar sua semelhança com outros filmes. Em seguida, os filmes que são mais provavelmente semelhantes são recomendados."
   ]
  },
  {
   "cell_type": "code",
   "execution_count": 23,
   "id": "ca994361",
   "metadata": {},
   "outputs": [
    {
     "data": {
      "text/plain": [
       "0    In the 22nd century, a paraplegic Marine is di...\n",
       "1    Captain Barbossa, long believed to be dead, ha...\n",
       "2    A cryptic message from Bond’s past sends him o...\n",
       "3    Following the death of District Attorney Harve...\n",
       "4    John Carter is a war-weary, former military ca...\n",
       "Name: overview, dtype: object"
      ]
     },
     "execution_count": 23,
     "metadata": {},
     "output_type": "execute_result"
    }
   ],
   "source": [
    "dados['overview'].head(5)"
   ]
  },
  {
   "cell_type": "code",
   "execution_count": 24,
   "id": "539a9623",
   "metadata": {},
   "outputs": [
    {
     "name": "stdout",
     "output_type": "stream",
     "text": [
      "Forma da Matriz TF-IDF: (4803, 20978)\n"
     ]
    }
   ],
   "source": [
    "# Inicializando o objeto Vetorizador TF-IDF com a remoção de stopwords em inglês\n",
    "vetorizador_tfidf = TfidfVectorizer(stop_words='english')\n",
    "\n",
    "# Preenchendo valores nulos na coluna 'visão geral' com uma string vazia\n",
    "dados['overview'] = dados['overview'].fillna('')\n",
    "\n",
    "# Criando uma matriz TF-IDF a partir dos textos da coluna 'visão_geral'\n",
    "matriz_tfidf = vetorizador_tfidf.fit_transform(dados['overview'])\n",
    "\n",
    "# Extraindo a forma (shape) da matriz TF-IDF\n",
    "# Essa linha retorna uma tupla representando o número de linhas (documentos) e colunas (features) na matriz TF-IDF\n",
    "print(\"Forma da Matriz TF-IDF:\", matriz_tfidf.shape)"
   ]
  },
  {
   "cell_type": "code",
   "execution_count": 25,
   "id": "1646306d",
   "metadata": {},
   "outputs": [],
   "source": [
    "# Calculando a similaridade cosseno entre as linhas da matriz TF-IDF\n",
    "similaridade_cosseno = linear_kernel(matriz_tfidf, matriz_tfidf)\n",
    "\n",
    "# Criando uma série de índices onde os índices são os títulos dos documentos e os valores são os índices correspondentes no DataFrame\n",
    "indices = pd.Series(dados.index, index=dados['title']).drop_duplicates()"
   ]
  },
  {
   "cell_type": "code",
   "execution_count": 26,
   "id": "95650c17",
   "metadata": {},
   "outputs": [],
   "source": [
    "def obter_recomendacoes(titulo, similaridade_cosseno=similaridade_cosseno):\n",
    "    # Obtendo o índice do título fornecido\n",
    "    indice = indices[titulo]\n",
    "\n",
    "    # Obtendo os scores de similaridade cosseno para todos os filmes\n",
    "    scores_similares = list(enumerate(similaridade_cosseno[indice]))\n",
    "\n",
    "    # Ordenando os scores de similaridade em ordem decrescente\n",
    "    scores_similares = sorted(scores_similares, key=lambda x: x[1], reverse=True)\n",
    "\n",
    "    # Excluindo o próprio filme (índice 0)\n",
    "    scores_similares = scores_similares[1:11]\n",
    "\n",
    "    # Obtendo os índices dos filmes recomendados\n",
    "    indices_filmes_recomendados = [i[0] for i in scores_similares]\n",
    "\n",
    "    # Retornando os títulos dos filmes recomendados\n",
    "    return dados['title'].iloc[indices_filmes_recomendados]"
   ]
  },
  {
   "cell_type": "code",
   "execution_count": 27,
   "id": "14e7e003",
   "metadata": {},
   "outputs": [
    {
     "data": {
      "text/plain": [
       "3604                       Apollo 18\n",
       "2130                    The American\n",
       "634                       The Matrix\n",
       "1341            The Inhabited Island\n",
       "529                 Tears of the Sun\n",
       "1610                           Hanna\n",
       "311     The Adventures of Pluto Nash\n",
       "847                         Semi-Pro\n",
       "775                        Supernova\n",
       "2628             Blood and Chocolate\n",
       "Name: title, dtype: object"
      ]
     },
     "execution_count": 27,
     "metadata": {},
     "output_type": "execute_result"
    }
   ],
   "source": [
    "obter_recomendacoes('Avatar')"
   ]
  },
  {
   "cell_type": "code",
   "execution_count": 28,
   "id": "56d44229",
   "metadata": {},
   "outputs": [
    {
     "data": {
      "text/plain": [
       "7               Avengers: Age of Ultron\n",
       "3144                            Plastic\n",
       "1715                            Timecop\n",
       "4124                 This Thing of Ours\n",
       "3311              Thank You for Smoking\n",
       "3033                      The Corruptor\n",
       "588     Wall Street: Money Never Sleeps\n",
       "2136         Team America: World Police\n",
       "1468                       The Fountain\n",
       "1286                        Snowpiercer\n",
       "Name: title, dtype: object"
      ]
     },
     "execution_count": 28,
     "metadata": {},
     "output_type": "execute_result"
    }
   ],
   "source": [
    "obter_recomendacoes('The Avengers')"
   ]
  }
 ],
 "metadata": {
  "kernelspec": {
   "display_name": "Python 3 (ipykernel)",
   "language": "python",
   "name": "python3"
  },
  "language_info": {
   "codemirror_mode": {
    "name": "ipython",
    "version": 3
   },
   "file_extension": ".py",
   "mimetype": "text/x-python",
   "name": "python",
   "nbconvert_exporter": "python",
   "pygments_lexer": "ipython3",
   "version": "3.12.0"
  }
 },
 "nbformat": 4,
 "nbformat_minor": 5
}
