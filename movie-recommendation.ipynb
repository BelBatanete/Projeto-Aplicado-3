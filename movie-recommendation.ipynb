{
 "cells": [
  {
   "cell_type": "code",
   "execution_count": null,
   "metadata": {},
   "outputs": [],
   "source": [
    "# Projeto Aplicado 3 \n",
    "# Recomendação de Filmes - The Movies Dataset\n",
    "# O arquivo disponibilizado no Kaggle possui vários CSV, porém os que contém informações relevantes são somente os 3 abaixo\n",
    "\n",
    "\n",
    "import pandas as pd\n",
    "import glob\n",
    "\n",
    "credits = pd.read_csv('tmdb_5000_credits.csv')\n",
    "movies = pd.read_csv('tmdb_5000_movies.csv', low_memory=False)\n",
    "\n",
    "%store credits\n",
    "%store movies"
   ]
  },
  {
   "cell_type": "code",
   "execution_count": null,
   "metadata": {},
   "outputs": [],
   "source": [
    "credits.head()\n",
    "credits.dtypes\n",
    "credits['movie_id'].dropna"
   ]
  },
  {
   "cell_type": "code",
   "execution_count": null,
   "metadata": {},
   "outputs": [],
   "source": [
    "movies.head()\n",
    "movies.dtypes\n",
    "\n",
    "# Ao executar o código acima, podemos perceber que a coluna ID do dataset Movies é do tipo Object, sendo necessário alterar a mesma para o tipo int64.\n",
    "# Para isso, devemos realizar a alteração abaixo."
   ]
  },
  {
   "cell_type": "code",
   "execution_count": null,
   "metadata": {},
   "outputs": [],
   "source": [
    "# Juntando as duas tabelas com base na coluna ID, realizando um merge.\n",
    "\n",
    "movies = movies.merge(credits, left_on=\"id\", right_on=\"movie_id\")\n",
    "\n",
    "movies.head()"
   ]
  },
  {
   "cell_type": "markdown",
   "metadata": {},
   "source": [
    "# Podemos verificar que a coluna _Overview_ descreve o filme."
   ]
  },
  {
   "cell_type": "code",
   "execution_count": null,
   "metadata": {},
   "outputs": [],
   "source": [
    "movies['overview']"
   ]
  },
  {
   "cell_type": "markdown",
   "metadata": {},
   "source": [
    "# Já a coluna _\"Genres\"_ informa o gênero de cada filme. Pode-se notar também que a coluna está no formato _JSON_"
   ]
  },
  {
   "cell_type": "code",
   "execution_count": null,
   "metadata": {},
   "outputs": [],
   "source": [
    "movies['genres'].unique().tolist()"
   ]
  },
  {
   "cell_type": "markdown",
   "metadata": {},
   "source": [
    "# Realizando algumas análises com base nas informações dos datasets, a começar com o orçamento dos filmes."
   ]
  },
  {
   "cell_type": "code",
   "execution_count": null,
   "metadata": {},
   "outputs": [],
   "source": [
    "import matplotlib.pyplot as plt\n",
    "import seaborn as sns\n",
    "\n",
    "sns.set(style=\"whitegrid\")\n",
    "\n",
    "fig, ax = plt.subplots(1, 2, figsize=(14, 6))\n",
    "\n",
    "# Orçamento\n",
    "sns.histplot(movies['budget'], bins=30, kde=True, ax=ax[0], color='skyblue')\n",
    "ax[0].set_title('Distribuição do Orçamento dos Filmes')\n",
    "ax[0].set_xlabel('Orçamento em milhões US$')\n",
    "ax[0].set_ylabel('Contagem de Filmes')\n",
    "\n",
    "# Receita\n",
    "sns.histplot(movies['revenue'], bins=30, kde=True, ax=ax[1], color='lightgreen')\n",
    "ax[1].set_title('Distribuição da Receita dos Filmes')\n",
    "ax[1].set_xlabel('Receita')\n",
    "ax[1].set_ylabel('Contagem de Filmes')\n",
    "\n",
    "plt.tight_layout()\n",
    "plt.show()"
   ]
  },
  {
   "cell_type": "markdown",
   "metadata": {},
   "source": [
    "* Orçamento: A maioria dos filmes tem um orçamento relativamente baixo, com poucos filmes apresentando orçamentos muito altos. A distribuição é fortemente inclinada para a direita, indicando que filmes com orçamentos extremamente elevados são raros.\n",
    "* Receita: A distribuição da receita é semelhante à do orçamento, com a maioria dos filmes gerando receitas menores e um número menor de filmes alcançando receitas extremamente altas. A distribuição também é inclinada para a direita."
   ]
  },
  {
   "cell_type": "code",
   "execution_count": null,
   "metadata": {},
   "outputs": [],
   "source": [
    "# O padrão para todas as colunas contendo informações é JSON, então devemos tratar essas colunas para limpar os dados de uma maneira mais correta para tratamento.\n",
    "\n",
    "import json\n",
    "\n",
    "def extrair_generos(cadeia_generos):\n",
    "    lista_generos = json.loads(cadeia_generos.replace('\\'', '\"'))\n",
    "    return [genero['name'] for genero in lista_generos]\n",
    "\n",
    "todos_generos = movies['genres'].apply(extrair_generos).explode()\n",
    "contagem_generos = todos_generos.value_counts()\n",
    "\n",
    "# gerando um gráfico que mostre a contagem de filmes por gênero\n",
    "plt.figure(figsize=(10, 6))\n",
    "sns.barplot(y=contagem_generos.index[:15], x=contagem_generos.values[:15], palette='coolwarm')\n",
    "plt.title('Top 15 Gêneros de Filmes Mais Comuns')\n",
    "plt.xlabel('Número de Filmes')\n",
    "plt.ylabel('Gênero')\n",
    "plt.show()\n"
   ]
  },
  {
   "cell_type": "markdown",
   "metadata": {},
   "source": [
    "* Podemos ver que Drama é a categoria com mais filmes, seguido de comédia e trilers"
   ]
  },
  {
   "cell_type": "code",
   "execution_count": null,
   "metadata": {},
   "outputs": [],
   "source": [
    "plt.figure(figsize=(16, 5))\n",
    "\n",
    "# Popularidade vs. Média de Votos\n",
    "plt.subplot(1, 2, 1)\n",
    "sns.scatterplot(data=movies, x='popularity', y='vote_average', color='teal', alpha=0.5)\n",
    "plt.title('Popularidade vs. Média de Votos')\n",
    "plt.xlabel('Popularidade')\n",
    "plt.ylabel('Média de Votos')\n",
    "\n",
    "# Popularidade vs. Contagem de Votos\n",
    "plt.subplot(1, 2, 2)\n",
    "sns.scatterplot(data=movies, x='popularity', y='vote_count', color='coral', alpha=0.5)\n",
    "plt.title('Popularidade vs. Contagem de Votos')\n",
    "plt.xlabel('Popularidade')\n",
    "plt.ylabel('Contagem de Votos')\n",
    "\n",
    "plt.tight_layout()\n",
    "plt.show()\n"
   ]
  },
  {
   "cell_type": "markdown",
   "metadata": {},
   "source": [
    "* Popularidade vs. Média de Votos: Não parece haver uma relação clara ou forte entre a popularidade de um filme e sua média de votos. Filmes com diferentes níveis de popularidade podem ter uma ampla gama de médias de votos, sugerindo que a popularidade não é diretamente proporcional à qualidade percebida (como indicado pela média de votos).\n",
    "\n",
    "* Popularidade vs. Contagem de Votos: Existe uma tendência mais perceptível aqui, onde filmes mais populares tendem a ter uma maior contagem de votos. Isso faz sentido, pois podemos esperar que filmes mais populares atraiam mais espectadores e, consequentemente, mais votos."
   ]
  },
  {
   "cell_type": "code",
   "execution_count": null,
   "metadata": {},
   "outputs": [],
   "source": [
    "#Análise da duração de filmes\n",
    "\n",
    "plt.figure(figsize=(8, 5))\n",
    "sns.histplot(movies['runtime'].dropna(), bins=30, kde=True, color='purple')\n",
    "plt.title('Distribuição da Duração dos Filmes')\n",
    "plt.xlabel('Duração (Minutos)')\n",
    "plt.ylabel('Contagem de Filmes')\n",
    "plt.show()\n"
   ]
  },
  {
   "cell_type": "markdown",
   "metadata": {},
   "source": [
    "* A maioria dos filmes tem uma duração entre 90 e 120 minutos, que é típica para longas-metragens.\n",
    "* A distribuição apresenta uma cauda longa à direita, indicando a presença de alguns filmes com durações significativamente maiores.\n",
    "* Há um pequeno número de filmes com duração inferior a 60 minutos, o que pode incluir curtas-metragens ou outros formatos especiais."
   ]
  }
 ],
 "metadata": {
  "kernelspec": {
   "display_name": "Python 3 (ipykernel)",
   "language": "python",
   "name": "python3"
  },
  "language_info": {
   "codemirror_mode": {
    "name": "ipython",
    "version": 3
   },
   "file_extension": ".py",
   "mimetype": "text/x-python",
   "name": "python",
   "nbconvert_exporter": "python",
   "pygments_lexer": "ipython3",
   "version": "3.12.0"
  }
 },
 "nbformat": 4,
 "nbformat_minor": 4
}
